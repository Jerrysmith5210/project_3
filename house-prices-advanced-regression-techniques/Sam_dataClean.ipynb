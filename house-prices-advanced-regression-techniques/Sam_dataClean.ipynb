{
 "cells": [
  {
   "cell_type": "code",
   "execution_count": 280,
   "metadata": {},
   "outputs": [],
   "source": [
    "import numpy as np\n",
    "import matplotlib.pyplot as plt\n",
    "import pandas as pd\n",
    "%matplotlib inline\n",
    "\n",
    "data = pd.read_csv('/Users/ICE-9/Desktop/Data_Science/Kaggle_housing/project_3/data/train.csv')"
   ]
  },
  {
   "cell_type": "code",
   "execution_count": 281,
   "metadata": {},
   "outputs": [
    {
     "data": {
      "text/plain": [
       "PoolQC          1453\n",
       "MiscFeature     1406\n",
       "Alley           1369\n",
       "Fence           1179\n",
       "FireplaceQu      690\n",
       "LotFrontage      259\n",
       "GarageCond        81\n",
       "GarageType        81\n",
       "GarageYrBlt       81\n",
       "GarageFinish      81\n",
       "GarageQual        81\n",
       "BsmtExposure      38\n",
       "BsmtFinType2      38\n",
       "BsmtFinType1      37\n",
       "BsmtCond          37\n",
       "BsmtQual          37\n",
       "MasVnrArea         8\n",
       "MasVnrType         8\n",
       "Electrical         1\n",
       "Utilities          0\n",
       "dtype: int64"
      ]
     },
     "execution_count": 281,
     "metadata": {},
     "output_type": "execute_result"
    }
   ],
   "source": [
    "#All NA values\n",
    "data.isna().sum().sort_values(ascending = False).head(n=20)"
   ]
  },
  {
   "cell_type": "code",
   "execution_count": 282,
   "metadata": {},
   "outputs": [
    {
     "name": "stdout",
     "output_type": "stream",
     "text": [
      "   Id  MSSubClass MSZoning  LotFrontage  LotArea Street Alley LotShape  \\\n",
      "0   1          60       RL         65.0     8450   Pave   NaN      Reg   \n",
      "1   2          20       RL         80.0     9600   Pave   NaN      Reg   \n",
      "2   3          60       RL         68.0    11250   Pave   NaN      IR1   \n",
      "3   4          70       RL         60.0     9550   Pave   NaN      IR1   \n",
      "4   5          60       RL         84.0    14260   Pave   NaN      IR1   \n",
      "\n",
      "  LandContour LotConfig    ...     PoolArea PoolQC Fence MiscFeature MiscVal  \\\n",
      "0         Lvl    Inside    ...            0    NaN   NaN         NaN       0   \n",
      "1         Lvl       FR2    ...            0    NaN   NaN         NaN       0   \n",
      "2         Lvl    Inside    ...            0    NaN   NaN         NaN       0   \n",
      "3         Lvl    Corner    ...            0    NaN   NaN         NaN       0   \n",
      "4         Lvl       FR2    ...            0    NaN   NaN         NaN       0   \n",
      "\n",
      "  MoSold  YrSold  SaleType  SaleCondition  SalePrice  \n",
      "0      2    2008        WD         Normal     208500  \n",
      "1      5    2007        WD         Normal     181500  \n",
      "2      9    2008        WD         Normal     223500  \n",
      "3      2    2006        WD        Abnorml     140000  \n",
      "4     12    2008        WD         Normal     250000  \n",
      "\n",
      "[5 rows x 79 columns]\n"
     ]
    }
   ],
   "source": [
    "# Dropping 2 columns that do not provide predictive value\n",
    "data = data.drop([\"Utilities\", \"GarageYrBlt\"], axis=1)\n",
    "print(data.head())"
   ]
  },
  {
   "cell_type": "code",
   "execution_count": 272,
   "metadata": {},
   "outputs": [],
   "source": [
    "# Create a dictionary to convert ordinal features into integers\n",
    "cleanup_nums = {\"LandSlope\": {\"Gtl\": 3, \"Mod\": 2, \"Sev\": 1},\n",
    "                \"ExterQual\": {\"Ex\": 4, \"Gd\": 3, \"TA\": 2, \"Fa\": 1},\n",
    "                \"ExterCond\": {\"Ex\": 5, \"Gd\": 4, \"TA\": 3, \"Fa\": 2, \"Po\": 1},\n",
    "                \"BsmtQual\": {\"Ex\": 5, \"Gd\": 4, \"TA\": 3, \"Fa\": 2, np.nan: 1},\n",
    "                \"BsmtCond\": {\"Gd\": 4, \"TA\": 3, \"Fa\": 2, np.nan: 1},\n",
    "                \"BsmtExposure\": {\"Gd\": 4, \"Av\": 3, \"Mn\": 2, \"No\": 2, np.nan: 1},\n",
    "                \"BsmtFinType1\": {'GLQ':7, 'ALQ':6, 'Unf':2, 'Rec':4, 'BLQ':5, np.nan:1, 'LwQ':3},\n",
    "                \"BsmtFinType2\": {'GLQ':7, 'ALQ':6, 'Unf':2, 'Rec':4, 'BLQ':5, np.nan:1, 'LwQ':3},\n",
    "                \"HeatingQC\": {\"Ex\": 5, \"Gd\": 4, \"TA\": 3, \"Fa\": 2, \"Po\": 1},\n",
    "                \"Electrical\": {'SBrkr':5, 'FuseF':3, 'FuseA':4, 'FuseP':2, 'Mix':1, np.nan:0}, # impute the NA\n",
    "                \"KitchenQual\": {\"Ex\": 4, \"Gd\": 3, \"TA\": 2, \"Fa\": 1},\n",
    "                \"Functional\": {'Typ':7, 'Min1':6, 'Maj1':3, 'Min2':5, 'Mod':4, 'Maj2':2, 'Sev':1},\n",
    "                \"FireplaceQu\": {\"Ex\": 6, \"Gd\": 5, \"TA\": 4, \"Fa\": 3, \"Po\": 2, np.nan: 1},\n",
    "                \"GarageFinish\": {'RFn': 3, 'Unf': 2, 'Fin': 4, np.nan: 1},\n",
    "                \"GarageQual\": {\"Ex\": 6, \"Gd\": 5, \"TA\": 4, \"Fa\": 3, \"Po\": 2, np.nan: 1},\n",
    "                \"GarageCond\": {\"Ex\": 6, \"Gd\": 5, \"TA\": 4, \"Fa\": 3, \"Po\": 2, np.nan: 1},\n",
    "                \"PavedDrive\": {'Y':3, 'N':1, 'P':2},  \n",
    "                \"PoolQC\": {\"Ex\": 5, \"Gd\": 4, \"TA\": 3, \"Fa\": 2, np.nan: 1}, # make this dummy    \n",
    "                \"Fence\": {np.nan:1, 'MnPrv':4, 'GdWo':3, 'GdPrv':5, 'MnWw':2}\n",
    "               }"
   ]
  },
  {
   "cell_type": "code",
   "execution_count": 273,
   "metadata": {},
   "outputs": [],
   "source": [
    "# Replace ordinal string values with cleanup_nums dictonary \n",
    "data.replace(cleanup_nums, inplace=True)"
   ]
  },
  {
   "cell_type": "code",
   "execution_count": 274,
   "metadata": {},
   "outputs": [],
   "source": [
    "#binarize misc features (shed yes no); rename as \"Shed\"\n",
    "#for i in data.MiscFeature:\n",
    " #   j = \"Shed\"\n",
    "  #  if i == j:\n",
    "   #     i = 1\n",
    "    #else: i = 0\n",
    "#above did not work\n",
    "\n",
    "#Renaming MiscFeatures as Shed\n",
    "data.rename(columns={'MiscFeature':'Shed'}, inplace=True)"
   ]
  },
  {
   "cell_type": "code",
   "execution_count": 275,
   "metadata": {},
   "outputs": [
    {
     "data": {
      "text/plain": [
       "Shed           1406\n",
       "Alley          1369\n",
       "LotFrontage     259\n",
       "GarageType       81\n",
       "MasVnrType        8\n",
       "MasVnrArea        8\n",
       "ExterCond         0\n",
       "RoofStyle         0\n",
       "RoofMatl          0\n",
       "Exterior1st       0\n",
       "dtype: int64"
      ]
     },
     "execution_count": 275,
     "metadata": {},
     "output_type": "execute_result"
    }
   ],
   "source": [
    "# Checking remaining NA values\n",
    "data.isna().sum().sort_values(ascending = False).head(n=10)"
   ]
  },
  {
   "cell_type": "code",
   "execution_count": 276,
   "metadata": {},
   "outputs": [
    {
     "data": {
      "text/plain": [
       "False    1460\n",
       "Name: MasVnrArea, dtype: int64"
      ]
     },
     "execution_count": 276,
     "metadata": {},
     "output_type": "execute_result"
    }
   ],
   "source": [
    "# Convert Nominal NA values to string \"None\"\n",
    "nominal_na_list = ['GarageType','Alley', 'MasVnrType', 'Shed']\n",
    "def nominal(x):\n",
    "    for i in x:\n",
    "        data[i].fillna(\"None\",inplace=True)\n",
    "    return data\n",
    "\n"
   ]
  },
  {
   "cell_type": "code",
   "execution_count": 277,
   "metadata": {},
   "outputs": [
    {
     "data": {
      "text/plain": [
       "LotFrontage    259\n",
       "SalePrice        0\n",
       "Foundation       0\n",
       "RoofMatl         0\n",
       "Exterior1st      0\n",
       "Exterior2nd      0\n",
       "MasVnrType       0\n",
       "MasVnrArea       0\n",
       "ExterQual        0\n",
       "ExterCond        0\n",
       "dtype: int64"
      ]
     },
     "execution_count": 277,
     "metadata": {},
     "output_type": "execute_result"
    }
   ],
   "source": [
    "nominal(nominal_na_list)\n",
    "data.isna().sum().sort_values(ascending = False).head(n=10)"
   ]
  },
  {
   "cell_type": "code",
   "execution_count": null,
   "metadata": {},
   "outputs": [],
   "source": [
    "#MasVnrArea NA values converted to 0\n",
    "data.MasVnrArea = data.MasVnrArea.fillna(0)"
   ]
  },
  {
   "cell_type": "code",
   "execution_count": 291,
   "metadata": {},
   "outputs": [],
   "source": [
    "#Convert PoolArea to boolean Yes (1) No (0)\n",
    "data[data[\"PoolArea\"] > 0] = 1\n",
    "data.rename(columns={\"PoolArea\":\"Pool\"}, inplace=True)"
   ]
  },
  {
   "cell_type": "code",
   "execution_count": 214,
   "metadata": {},
   "outputs": [],
   "source": [
    "dlist_ALL = [data.MSSubClass, data.LotShape, data.LandContour, data.Alley, data.LotConfig, data.Neighborhood, data.Condition1, data.Condition2,\\\n",
    "        data.BldgType, data.HouseStyle, data.RoofStyle, data.RoofMatl, data.Exterior1st,\\\n",
    "        data.Exterior2nd, data.MasVnrType, data.Foundation, data.Heating, data.GarageType,\\\n",
    "        data.SaleType, data.SaleCondition, data.Shed]"
   ]
  },
  {
   "cell_type": "code",
   "execution_count": 167,
   "metadata": {},
   "outputs": [],
   "source": [
    "def dummify(x):\n",
    "    dummy = pd.DataFrame([])\n",
    "    for i in x:\n",
    "        dummylist = pd.get_dummies(i)\n",
    "        dummylist = dummylist.drop(i.iloc[0], axis = 1)   \n",
    "        dummy = pd.concat([dummy, dummylist], axis =1)\n",
    "    return dummy\n",
    "#data= pd.concat([data.drop(dlist_ALL, axis = 1), dummy], axis =1)"
   ]
  },
  {
   "cell_type": "code",
   "execution_count": 144,
   "metadata": {},
   "outputs": [],
   "source": [
    "#dummify(dlist)"
   ]
  },
  {
   "cell_type": "code",
   "execution_count": null,
   "metadata": {},
   "outputs": [],
   "source": [
    "#Imputer for continuous features (LotFrontage, MasVnrArea)\n",
    "from sklearn.preprocessing import Imputer\n",
    "print(data[\"LotFrontage\"].mean())\n",
    "data.LotFrontage.isna().value_counts()\n",
    "imp = Imputer(missing_values='NaN', strategy='mean', axis=0, verbose=0)"
   ]
  },
  {
   "cell_type": "code",
   "execution_count": null,
   "metadata": {},
   "outputs": [],
   "source": [
    "from fancyimpute import KNN    \n",
    "# X is the complete data matrix\n",
    "# X_incomplete has the same values as X except a subset have been replace with NaN\n",
    "\n",
    "# Use 3 nearest rows which have a feature to fill in each row's missing features\n",
    "X_filled_knn = KNN(k=3).complete(X_incomplete)"
   ]
  }
 ],
 "metadata": {
  "kernelspec": {
   "display_name": "Python 3",
   "language": "python",
   "name": "python3"
  },
  "language_info": {
   "codemirror_mode": {
    "name": "ipython",
    "version": 3
   },
   "file_extension": ".py",
   "mimetype": "text/x-python",
   "name": "python",
   "nbconvert_exporter": "python",
   "pygments_lexer": "ipython3",
   "version": "3.6.4"
  }
 },
 "nbformat": 4,
 "nbformat_minor": 2
}
