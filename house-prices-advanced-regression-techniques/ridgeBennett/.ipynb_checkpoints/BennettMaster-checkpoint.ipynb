{
 "cells": [
  {
   "cell_type": "code",
   "execution_count": 358,
   "metadata": {},
   "outputs": [],
   "source": [
    "# import packages \n",
    "import pandas as pd\n",
    "import matplotlib\n",
    "import matplotlib.pyplot as plt\n",
    "%matplotlib inline\n",
    "import numpy as np\n",
    "\n",
    "\n",
    "# load train and test data sets\n",
    "path_to_file = \"../../data/train.csv\"\n",
    "train = pd.read_csv(path_to_file)\n",
    "\n",
    "path_to_file = \"../../data/test.csv\"\n",
    "test = pd.read_csv(path_to_file)"
   ]
  },
  {
   "cell_type": "code",
   "execution_count": 359,
   "metadata": {},
   "outputs": [],
   "source": [
    "# merge train and test for cleaning\n",
    "test['SalePrice'] = None\n",
    "master = train.append(pd.DataFrame(test), ignore_index=True)"
   ]
  },
  {
   "cell_type": "markdown",
   "metadata": {},
   "source": [
    "# Data Cleaning "
   ]
  },
  {
   "cell_type": "code",
   "execution_count": 360,
   "metadata": {},
   "outputs": [],
   "source": [
    "# drop Id column\n",
    "Ids = master.Id\n",
    "master.drop(['Id'], axis = 1, inplace = True)"
   ]
  },
  {
   "cell_type": "code",
   "execution_count": 341,
   "metadata": {},
   "outputs": [],
   "source": [
    "# feature notes:\n",
    "# Id - don't use for analysis, need to add back at end to submit for test\n",
    "\n",
    "### convert to /dummy, can I collapse?\n",
    "# MSSubClass (type of dwelling)\n",
    "# MSZoning (zoning classification)\n",
    "# MoSold (month sold in)\n",
    "# LotConfig - collapse FR3 and FR2\n",
    "# PoolArea - yes or no pool\n",
    "# street - gravel or pave\n",
    "# LotShape - collapse to irregular or not \n",
    "# LandContour - Lvl or not\n",
    "# LandSlope - collapse to Gtl or Slope\n",
    "# Neighborhood\n",
    "# Condition1 - collapse near railroad, near street, near positive feature\n",
    "# BldgType - collapse Townhouse, TwoFamCond/Duplex\n",
    "# HouseStyle - collapse 1, 1.5, 2&2.5, Sfoyer, Slevel\n",
    "# RoofStyle\n",
    "# Exterior1st\n",
    "# Exterior2nd\n",
    "# MasVnrArea - yes or no\n",
    "# Foundation\n",
    "# CentralAir\n",
    "# Electrical - collapse to SBKR or no\n",
    "# Fence\n",
    "# MiscFeature - shed or no shed\n",
    "# SaleType - collapse\n",
    "# SaleCondition\n",
    "# Functional - y/n\n",
    "# GarageType\n",
    "# PavedDrive - y/n & partial\n",
    "\n",
    "### cont./discrete - adjust for skew\n",
    "# LotFrontage - linear feet of street connected to property\n",
    "# LotArea\n",
    "# total Sq ft - this is sum of 'TotalBsmtSF'  + 'GrLivArea'\n",
    "# YearBuilt\n",
    "# LowQualFinSF\n",
    "# full baths - 'BsmtFullBath','FullBath',\n",
    "# half baths - 'BsmtHalfBath','HalfBath',\n",
    "# YrSold\n",
    "# Fireplaces\n",
    "# BedroomAbvGr\n",
    "# KitchenAbvGr\n",
    "# TotRmsAbvGrd\n",
    "# GarageCars\n",
    "# GarageArea - has some skew\n",
    "# create porch sqft - 'EnclosedPorch', '3SsnPorch','ScreenPorch',\n",
    "# WoodDeckSF\n",
    "# OpenPorchSF\n",
    "\n",
    "### ord. - transformations when plotted vs. y? can I collapse?\n",
    "# OverlQual - materials and finish\n",
    "# OveralCond - condition\n",
    "# ExterQual\n",
    "# ExterCond\n",
    "# BsmtExposure - CHECK graph, this includes no basement. Maybe Dummy\n",
    "# BsmtFinType1 - CHECK graph, this includes no basement. Maybe Dummy\n",
    "# Buckets of when it was remodeled by years ago - ADD from YearRemodAdd\n",
    "# HeatingQC - collapse\n",
    "# KitchenQual - collapse\n",
    "# GarageFinish\n",
    "# GarageQual - collapse\n",
    "# GarageCond - collapse \n",
    "\n",
    "### drop\n",
    "# PoolQC - not many observations, small range with in the observations\n",
    "# Alley - only ~6% have an alley at all, probably won't have much effect on price\n",
    "# Utilities - all pub except one or two\n",
    "# Condition2 - not many have this \n",
    "# RoofMatl - mostly all the same, probably accounted for in RoofStyle\n",
    "# BsmtCond\n",
    "# BsmtQual\n",
    "# BsmtFinType2\n",
    "# BsmtFinSF1\n",
    "# BsmtFinSF2\n",
    "# Heating\n",
    "# FireplaceQu\n",
    "# MiscVal\n",
    "# GarageYrBlt\n",
    "# ---\n",
    "# YearRemodAdd - make into ord.\n",
    "# 'BsmtFullBath', 'BsmtHalfBath', 'FullBath', 'HalfBath', - to half and full baths\n",
    "# 'TotalBsmtSF'  'GrLivArea' to total sq\n",
    "# 'EnclosedPorch', '3SsnPorch','ScreenPorch', to porch sqft\n",
    "######### Feat engineering\n",
    "# first floor sf and second floor sf - sum these and eliminate other \n",
    "# total sq foot of house\n",
    "#########"
   ]
  },
  {
   "cell_type": "code",
   "execution_count": 361,
   "metadata": {},
   "outputs": [],
   "source": [
    "# drop vars to drop\n",
    "master.drop(['PoolQC', 'Alley', 'Utilities', 'Condition2', 'RoofMatl', 'BsmtCond', 'BsmtQual', 'BsmtFinType2',\n",
    "            'BsmtFinSF1', 'BsmtFinSF2', 'Heating', 'FireplaceQu', 'MiscVal', 'GarageYrBlt'], axis = 1, inplace = True)"
   ]
  },
  {
   "cell_type": "code",
   "execution_count": 362,
   "metadata": {},
   "outputs": [
    {
     "name": "stderr",
     "output_type": "stream",
     "text": [
      "/Users/bennettgelly/anaconda3/lib/python3.6/site-packages/ipykernel_launcher.py:7: SettingWithCopyWarning: \n",
      "A value is trying to be set on a copy of a slice from a DataFrame.\n",
      "Try using .loc[row_indexer,col_indexer] = value instead\n",
      "\n",
      "See the caveats in the documentation: http://pandas.pydata.org/pandas-docs/stable/indexing.html#indexing-view-versus-copy\n",
      "  import sys\n",
      "/Users/bennettgelly/anaconda3/lib/python3.6/site-packages/ipykernel_launcher.py:8: SettingWithCopyWarning: \n",
      "A value is trying to be set on a copy of a slice from a DataFrame.\n",
      "Try using .loc[row_indexer,col_indexer] = value instead\n",
      "\n",
      "See the caveats in the documentation: http://pandas.pydata.org/pandas-docs/stable/indexing.html#indexing-view-versus-copy\n",
      "  \n",
      "/Users/bennettgelly/anaconda3/lib/python3.6/site-packages/ipykernel_launcher.py:9: SettingWithCopyWarning: \n",
      "A value is trying to be set on a copy of a slice from a DataFrame.\n",
      "Try using .loc[row_indexer,col_indexer] = value instead\n",
      "\n",
      "See the caveats in the documentation: http://pandas.pydata.org/pandas-docs/stable/indexing.html#indexing-view-versus-copy\n",
      "  if __name__ == '__main__':\n",
      "/Users/bennettgelly/anaconda3/lib/python3.6/site-packages/ipykernel_launcher.py:10: SettingWithCopyWarning: \n",
      "A value is trying to be set on a copy of a slice from a DataFrame.\n",
      "Try using .loc[row_indexer,col_indexer] = value instead\n",
      "\n",
      "See the caveats in the documentation: http://pandas.pydata.org/pandas-docs/stable/indexing.html#indexing-view-versus-copy\n",
      "  # Remove the CWD from sys.path while we load stuff.\n",
      "/Users/bennettgelly/anaconda3/lib/python3.6/site-packages/ipykernel_launcher.py:21: SettingWithCopyWarning: \n",
      "A value is trying to be set on a copy of a slice from a DataFrame.\n",
      "Try using .loc[row_indexer,col_indexer] = value instead\n",
      "\n",
      "See the caveats in the documentation: http://pandas.pydata.org/pandas-docs/stable/indexing.html#indexing-view-versus-copy\n"
     ]
    }
   ],
   "source": [
    "# create df with continuous and discrete variables \n",
    "contDiscVars = master[['LotFrontage', 'LotArea', 'YearBuilt', 'LowQualFinSF',\n",
    "                     'YrSold', 'Fireplaces', 'BedroomAbvGr', 'KitchenAbvGr',\n",
    "                     'TotRmsAbvGrd', 'GarageCars', 'GarageArea', \n",
    "                     'WoodDeckSF', 'OpenPorchSF']]\n",
    "\n",
    "contDiscVars['totSF'] = master['TotalBsmtSF'] + master['GrLivArea']\n",
    "contDiscVars['bathsF'] = master['BsmtFullBath'] + master['FullBath']\n",
    "contDiscVars['bathsH'] = master['BsmtHalfBath'] + master['HalfBath']\n",
    "contDiscVars['porchSF'] = master['EnclosedPorch'] + master['3SsnPorch'] + master['ScreenPorch']\n",
    "\n",
    "# add years since remodeling variable\n",
    "yearB = pd.DataFrame([i for i in master.YearBuilt])\n",
    "remo = pd.DataFrame([i for i in master.YearRemodAdd])\n",
    "BxRemo = pd.concat([yearB.reset_index(drop=True), remo], axis=1)\n",
    "BxRemo.columns = ['B', 'R']\n",
    "#BxRemo[\"F\"] = BxRemo['B']/BxRemo['R']\n",
    "#Remos = BxRemo[BxRemo['F']<1]\n",
    "BxRemo['Y'] = BxRemo['R'] - BxRemo['B']\n",
    "#BxRemo[BxRemo['Y']>0]\n",
    "contDiscVars['YrSinceRemo'] = BxRemo['Y']"
   ]
  },
  {
   "cell_type": "code",
   "execution_count": 363,
   "metadata": {},
   "outputs": [],
   "source": [
    "# collapse ordinal values\n",
    "\n",
    "# collapse ordinal variables \n",
    "master.replace({'ExterQual': 'Fa'}, {'ExterQual': 'TA'}, regex=True, inplace = True)\n",
    "master.replace({'ExterCond': 'Ex'}, {'ExterCond': 'Gd'}, regex=True, inplace = True)\n",
    "master.replace({'ExterCond': 'Fa'}, {'ExterCond': 'TA'}, regex=True, inplace = True)\n",
    "master.replace({'BsmtExposure': 'No'}, {'BsmtExposure': 'Mn'}, regex=True, inplace = True)\n",
    "master.replace({'BsmtExposure': 'Av'}, {'BsmtExposure': 'Gd'}, regex=True, inplace = True)\n",
    "master.replace({'HeatingQC': 'Fa'}, {'HeatingQC': 'Gd'}, regex=True, inplace = True)\n",
    "master.replace({'HeatingQC': 'Gd'}, {'HeatingQC': 'TA'}, regex=True, inplace = True)\n",
    "master.replace({'KitchenQual': 'Fa'}, {'KitchenQual': 'TA'}, regex=True, inplace = True)\n",
    "master.replace({'KitchenQual': 'Fa'}, {'KitchenQual': 'TA'}, regex=True, inplace = True)\n",
    "master.replace({'GarageQual': 'Ex'}, {'GarageQual': 'Gd'}, regex=True, inplace = True)\n",
    "master.replace({'GarageQual': 'Fa'}, {'GarageQual': 'TA'}, regex=True, inplace = True)\n",
    "master.replace({'GarageCond': 'Ex'}, {'GarageCond': 'Gd'}, regex=True, inplace = True)\n",
    "master.replace({'GarageCond': 'Fa'}, {'GarageCond': 'TA'}, regex=True, inplace = True)\n"
   ]
  },
  {
   "cell_type": "code",
   "execution_count": 364,
   "metadata": {},
   "outputs": [],
   "source": [
    "# ordinal variables to ordinal\n",
    "var_to_ord ={\"ExterQual\": {\"Ex\": 3, \"Gd\": 2, \"TA\": 1},\n",
    "                \"ExterCond\": {\"Gd\": 3, \"TA\": 2, \"Po\": 1},\n",
    "                \"BsmtExposure\": {\"Gd\": 3, \"Mn\": 2, np.nan: 1}, # missing means no basement\n",
    "                \"BsmtFinType1\": {'GLQ':7, 'ALQ':6, 'Unf':2, 'Rec':4, 'BLQ':5, np.nan:1, 'LwQ':3},\n",
    "                \"HeatingQC\": {\"Ex\": 3, \"TA\": 2, \"Po\": 1},\n",
    "                \"KitchenQual\": {\"Ex\": 3, \"Gd\": 2, \"TA\": 1},\n",
    "                \"GarageFinish\": {'RFn': 3, 'Unf': 2, 'Fin': 4, np.nan: 1},\n",
    "                    \n",
    "                \"GarageQual\": {\"Gd\": 4, \"TA\": 3, \"Po\": 2, np.nan: 1},\n",
    "                \"GarageCond\": {\"Gd\": 4, \"TA\": 3, \"Po\": 2, np.nan: 1}\n",
    "            }\n",
    "\n",
    "master.replace(var_to_ord, inplace=True)"
   ]
  },
  {
   "cell_type": "code",
   "execution_count": 365,
   "metadata": {},
   "outputs": [],
   "source": [
    "# create df of ordinal values\n",
    "ordVars = master[[\"OverallQual\", \"OverallCond\", \"ExterQual\", \"ExterCond\", \"BsmtExposure\", \"BsmtFinType1\", \"HeatingQC\", \"KitchenQual\", \"GarageFinish\", \"GarageQual\", \"GarageCond\"]]"
   ]
  },
  {
   "cell_type": "code",
   "execution_count": 366,
   "metadata": {},
   "outputs": [],
   "source": [
    "# collapse dummy variables\n",
    "\n",
    "master.replace({'LogConfig': 'FR3'}, {'LogConfig': 'FR2'}, regex=True, inplace = True)\n",
    "master.replace({'LogConfig': 'FR2'}, {'LogConfig': 'FR'}, regex=True, inplace = True)\n",
    "master['MiscFeature'] = [1 if i == 'Shed' else 0 for i in master['MiscFeature']]\n",
    "master['PoolArea'] = [0 if i == 0  else 1 for i in master['PoolArea']]\n",
    "master['CentralAir'] = [0 if i =='N'  else 1 for i in master['CentralAir']]\n",
    "master['Street'] = [0 if i == \"Grvl\"  else 1 for i in master['Street']]\n",
    "master['MasVnrArea'] = [0 if i == \"No\"  else 1 for i in master['MasVnrArea']]\n",
    "\n",
    "master.replace({'LotShape': 'IR3'}, {'LotShape': 'IR1'}, regex=True, inplace = True)\n",
    "master.replace({'LotShape': 'IR2'}, {'LotShape': 'IR1'}, regex=True, inplace = True)\n",
    "master.replace({'LotShape': 'IR1'}, {'LotShape': 'IR'}, regex=True, inplace = True)\n",
    "\n",
    "master.replace({'LandContour': 'Bnk'}, {'LandContour': 'NoLvl'}, regex=True, inplace = True)\n",
    "master.replace({'LandContour': 'HLS'}, {'LandContour': 'NoLvl'}, regex=True, inplace = True)\n",
    "master.replace({'LandContour': 'Low'}, {'LandContour': 'NoLvl'}, regex=True, inplace = True)\n",
    "\n",
    "master.replace({'LandSlope': 'Mod'}, {'LandSlope': 'Slp'}, regex=True, inplace = True)\n",
    "master.replace({'LandSlope': 'Sev'}, {'LandSlope': 'Slp'}, regex=True, inplace = True)\n",
    "\n",
    "master.replace({'Condition1': 'Feedr'}, {'Condition1': 'St'}, regex=True, inplace = True)\n",
    "master.replace({'Condition1': 'Artery'}, {'Condition1': 'St'}, regex=True, inplace = True)\n",
    "master.replace({'Condition1': 'PosN'}, {'Condition1': 'Pos'}, regex=True, inplace = True)\n",
    "master.replace({'Condition1': 'PosA'}, {'Condition1': 'Pos'}, regex=True, inplace = True)\n",
    "master.replace({'Condition1': 'RRNn'}, {'Condition1': 'RR'}, regex=True, inplace = True)\n",
    "master.replace({'Condition1': 'RRAn'}, {'Condition1': 'RR'}, regex=True, inplace = True)\n",
    "master.replace({'Condition1': 'RRNe'}, {'Condition1': 'RR'}, regex=True, inplace = True)\n",
    "master.replace({'Condition1': 'RRAe'}, {'Condition1': 'RR'}, regex=True, inplace = True)\n",
    "\n",
    "master.replace({'BldgType': 'TwnhsE'}, {'BldgType': 'Twnhs'}, regex=True, inplace = True)\n",
    "master.replace({'BldgType': '2fmCon'}, {'BldgType': '2fam'}, regex=True, inplace = True)\n",
    "master.replace({'BldgType': 'Duplex'}, {'BldgType': '2fam'}, regex=True, inplace = True)\n",
    "\n",
    "master.replace({'HouseStyle': '1.5Fin'}, {'HouseStyle': '1.5'}, regex=True, inplace = True)\n",
    "master.replace({'HouseStyle': '1.5Unf'}, {'HouseStyle': '1.5'}, regex=True, inplace = True)\n",
    "master.replace({'HouseStyle': '2.5Unf'}, {'HouseStyle': '2/2.5'}, regex=True, inplace = True)\n",
    "master.replace({'HouseStyle': '2.5Unf'}, {'HouseStyle': '2/2.5'}, regex=True, inplace = True)\n",
    "master.replace({'HouseStyle': '2Story'}, {'HouseStyle': '2/2.5'}, regex=True, inplace = True)\n",
    "\n",
    "master['Electrical'] = [1 if i == \"SBrkr\"  else 0 for i in master['Electrical']]\n",
    "\n",
    "master.replace({'SaleType': 'CWD'}, {'SaleType': 'WD'}, regex=True, inplace = True)\n",
    "master.replace({'SaleType': 'VWD'}, {'SaleType': 'WD'}, regex=True, inplace = True)\n",
    "master.replace({'SaleType': 'ConLI'}, {'SaleType': 'ConLw'}, regex=True, inplace = True)\n",
    "master.replace({'SaleType': 'ConLD'}, {'SaleType': 'ConLw'}, regex=True, inplace = True)     \n",
    "       \n",
    "master['Function'] = [1 if i == \"Typ\"  else 0 for i in master['Functional']]\n",
    "\n",
    "master['PavedDrive'] = [1 if i == \"Y\"  else 0 for i in master['PavedDrive']]\n"
   ]
  },
  {
   "cell_type": "code",
   "execution_count": 367,
   "metadata": {},
   "outputs": [],
   "source": [
    "# create dummy list\n",
    "dummyList = ['MSSubClass', 'MSZoning', 'MoSold', 'Neighborhood', 'RoofStyle', 'Exterior1st', 'Exterior2nd', 'Foundation', 'Fence', 'SaleCondition', 'GarageType', 'LotConfig', 'MiscFeature', 'PoolArea', 'Street', 'CentralAir', 'MasVnrArea', 'LotShape', 'LandContour','LandSlope', 'Condition1', 'BldgType','HouseStyle','SaleType','Functional','PavedDrive']\n"
   ]
  },
  {
   "cell_type": "code",
   "execution_count": 369,
   "metadata": {},
   "outputs": [
    {
     "data": {
      "text/plain": [
       "MSZoning         4\n",
       "Functional       2\n",
       "SaleType         1\n",
       "Exterior1st      1\n",
       "Exterior2nd      1\n",
       "PavedDrive       0\n",
       "LotConfig        0\n",
       "MoSold           0\n",
       "Neighborhood     0\n",
       "RoofStyle        0\n",
       "Foundation       0\n",
       "Fence            0\n",
       "SaleCondition    0\n",
       "GarageType       0\n",
       "MiscFeature      0\n",
       "PoolArea         0\n",
       "Street           0\n",
       "CentralAir       0\n",
       "MasVnrArea       0\n",
       "LotShape         0\n",
       "LandContour      0\n",
       "LandSlope        0\n",
       "Condition1       0\n",
       "BldgType         0\n",
       "HouseStyle       0\n",
       "MSSubClass       0\n",
       "dtype: int64"
      ]
     },
     "execution_count": 369,
     "metadata": {},
     "output_type": "execute_result"
    }
   ],
   "source": [
    "# get rid of dummy missing values\n",
    "dummies = master[dummyList]\n",
    "\n",
    "\n",
    "dummy_na_list = ['Fence', 'GarageType']\n",
    "\n",
    "def zeroNAs(x):\n",
    "    for i in x:\n",
    "        master[i].fillna(\"No\",inplace=True)\n",
    "\n",
    "\n",
    "zeroNAs(dummy_na_list)\n",
    "dummies.isnull().sum().sort_values(ascending = False)"
   ]
  },
  {
   "cell_type": "markdown",
   "metadata": {},
   "source": [
    "# Imputing Missing Data"
   ]
  },
  {
   "cell_type": "code",
   "execution_count": 370,
   "metadata": {},
   "outputs": [],
   "source": [
    "# class to impute missing data for dummy variables based on most frequent value \n",
    "# DO WE WANT TO DO KNN FOR THIS?\n",
    "\n",
    "from sklearn.base import TransformerMixin\n",
    "from sklearn.base import BaseEstimator\n",
    "\n",
    "class CustomImputer(BaseEstimator, TransformerMixin):\n",
    "    def __init__(self, strategy='mean',filler='NA'):\n",
    "        self.strategy = strategy\n",
    "        self.fill = filler\n",
    "\n",
    "    def fit(self, X, y=None):\n",
    "        if self.strategy in ['mean','median']:\n",
    "            if not all(X.dtypes == np.number):\n",
    "                raise ValueError('dtypes mismatch np.number dtype is \\\n",
    "                                 required for '+ self.strategy)\n",
    "        if self.strategy == 'mean':\n",
    "            self.fill = X.mean()\n",
    "        elif self.strategy == 'median':\n",
    "            self.fill = X.median()\n",
    "        elif self.strategy == 'mode':\n",
    "            self.fill = X.mode().iloc[0]\n",
    "        elif self.strategy == 'fill':\n",
    "            if type(self.fill) is list and type(X) is pd.DataFrame:\n",
    "                self.fill = dict([(cname, v) for cname,v in zip(X.columns, self.fill)])\n",
    "        return self\n",
    "\n",
    "    def transform(self, X, y=None):\n",
    "        return X.fillna(self.fill)"
   ]
  },
  {
   "cell_type": "code",
   "execution_count": 375,
   "metadata": {},
   "outputs": [],
   "source": [
    "imputedDummies = CustomImputer(strategy='mode').fit_transform(dummies)"
   ]
  },
  {
   "cell_type": "code",
   "execution_count": 376,
   "metadata": {},
   "outputs": [
    {
     "data": {
      "text/plain": [
       "PavedDrive       0\n",
       "Functional       0\n",
       "MSZoning         0\n",
       "MoSold           0\n",
       "Neighborhood     0\n",
       "RoofStyle        0\n",
       "Exterior1st      0\n",
       "Exterior2nd      0\n",
       "Foundation       0\n",
       "Fence            0\n",
       "SaleCondition    0\n",
       "GarageType       0\n",
       "LotConfig        0\n",
       "MiscFeature      0\n",
       "PoolArea         0\n",
       "Street           0\n",
       "CentralAir       0\n",
       "MasVnrArea       0\n",
       "LotShape         0\n",
       "LandContour      0\n",
       "LandSlope        0\n",
       "Condition1       0\n",
       "BldgType         0\n",
       "HouseStyle       0\n",
       "SaleType         0\n",
       "MSSubClass       0\n",
       "dtype: int64"
      ]
     },
     "execution_count": 376,
     "metadata": {},
     "output_type": "execute_result"
    }
   ],
   "source": [
    "imputedDummies.isnull().sum().sort_values(ascending = False)"
   ]
  },
  {
   "cell_type": "code",
   "execution_count": 383,
   "metadata": {},
   "outputs": [],
   "source": [
    "# function to dummify variables\n",
    "def dummify(x):\n",
    "    dummy = pd.DataFrame([])\n",
    "    for i in x:\n",
    "        dummylist = pd.get_dummies(i, prefix = str(i.name), prefix_sep= '_')\n",
    "        dummylist = dummylist.drop(str(i.name) + '_' + str(i[0]), axis = 1)   \n",
    "        dummy = pd.concat([dummy, dummylist], axis =1)\n",
    "    return dummy"
   ]
  },
  {
   "cell_type": "code",
   "execution_count": 384,
   "metadata": {},
   "outputs": [],
   "source": [
    "# dummify dummyList\n",
    "\n",
    "dummyList = [imputedDummies['MSSubClass'], imputedDummies['MSZoning'], imputedDummies['MoSold'], imputedDummies['Neighborhood'], imputedDummies['RoofStyle'], imputedDummies['Exterior1st'], imputedDummies['Exterior2nd'], imputedDummies['Foundation'], imputedDummies['Fence'], imputedDummies['SaleCondition'], imputedDummies['GarageType'], imputedDummies['LotConfig'], imputedDummies['MiscFeature'], imputedDummies['PoolArea'], imputedDummies['Street'], imputedDummies['CentralAir'], imputedDummies['MasVnrArea'], imputedDummies['LotShape'], imputedDummies['LandContour'],imputedDummies['LandSlope'], imputedDummies['Condition1'], imputedDummies['BldgType'],imputedDummies['HouseStyle'],imputedDummies['SaleType'],imputedDummies['Functional'],imputedDummies['PavedDrive']]\n",
    "dummyFrame = dummify(dummyList)"
   ]
  },
  {
   "cell_type": "code",
   "execution_count": 385,
   "metadata": {},
   "outputs": [
    {
     "data": {
      "text/plain": [
       "KitchenQual     1\n",
       "GarageCond      0\n",
       "GarageQual      0\n",
       "GarageFinish    0\n",
       "HeatingQC       0\n",
       "BsmtFinType1    0\n",
       "BsmtExposure    0\n",
       "ExterCond       0\n",
       "ExterQual       0\n",
       "OverallCond     0\n",
       "OverallQual     0\n",
       "dtype: int64"
      ]
     },
     "execution_count": 385,
     "metadata": {},
     "output_type": "execute_result"
    }
   ],
   "source": [
    "# ordinal missing data\n",
    "ordVars.isnull().sum().sort_values(ascending = False)"
   ]
  },
  {
   "cell_type": "code",
   "execution_count": 386,
   "metadata": {},
   "outputs": [],
   "source": [
    "imputedOrdVars = CustomImputer(strategy='mode').fit_transform(ordVars)"
   ]
  },
  {
   "cell_type": "code",
   "execution_count": 387,
   "metadata": {},
   "outputs": [
    {
     "data": {
      "text/plain": [
       "LotFrontage     486\n",
       "bathsH            2\n",
       "bathsF            2\n",
       "totSF             1\n",
       "GarageArea        1\n",
       "GarageCars        1\n",
       "Fireplaces        0\n",
       "LotArea           0\n",
       "YearBuilt         0\n",
       "LowQualFinSF      0\n",
       "YrSold            0\n",
       "YrSinceRemo       0\n",
       "BedroomAbvGr      0\n",
       "KitchenAbvGr      0\n",
       "porchSF           0\n",
       "WoodDeckSF        0\n",
       "OpenPorchSF       0\n",
       "TotRmsAbvGrd      0\n",
       "dtype: int64"
      ]
     },
     "execution_count": 387,
     "metadata": {},
     "output_type": "execute_result"
    }
   ],
   "source": [
    "# continuous missing data\n",
    "contDiscVars.isnull().sum().sort_values(ascending = False)"
   ]
  },
  {
   "cell_type": "code",
   "execution_count": 388,
   "metadata": {},
   "outputs": [
    {
     "name": "stderr",
     "output_type": "stream",
     "text": [
      "/Users/bennettgelly/anaconda3/lib/python3.6/site-packages/pandas/core/generic.py:4355: SettingWithCopyWarning: \n",
      "A value is trying to be set on a copy of a slice from a DataFrame\n",
      "\n",
      "See the caveats in the documentation: http://pandas.pydata.org/pandas-docs/stable/indexing.html#indexing-view-versus-copy\n",
      "  self._update_inplace(new_data)\n"
     ]
    }
   ],
   "source": [
    "cont_na_list = ['LotFrontage']\n",
    "\n",
    "def zeroNAs2(x):\n",
    "    for i in x:\n",
    "        contDiscVars[i].fillna(0,inplace=True)\n",
    "\n",
    "\n",
    "zeroNAs2(cont_na_list)"
   ]
  },
  {
   "cell_type": "code",
   "execution_count": 389,
   "metadata": {},
   "outputs": [
    {
     "data": {
      "text/plain": [
       "bathsH          2\n",
       "bathsF          2\n",
       "totSF           1\n",
       "GarageArea      1\n",
       "GarageCars      1\n",
       "YrSinceRemo     0\n",
       "Fireplaces      0\n",
       "LotArea         0\n",
       "YearBuilt       0\n",
       "LowQualFinSF    0\n",
       "YrSold          0\n",
       "TotRmsAbvGrd    0\n",
       "BedroomAbvGr    0\n",
       "KitchenAbvGr    0\n",
       "porchSF         0\n",
       "WoodDeckSF      0\n",
       "OpenPorchSF     0\n",
       "LotFrontage     0\n",
       "dtype: int64"
      ]
     },
     "execution_count": 389,
     "metadata": {},
     "output_type": "execute_result"
    }
   ],
   "source": [
    "contDiscVars.isnull().sum().sort_values(ascending = False)"
   ]
  },
  {
   "cell_type": "code",
   "execution_count": 390,
   "metadata": {},
   "outputs": [
    {
     "data": {
      "text/plain": [
       "YrSinceRemo     0\n",
       "porchSF         0\n",
       "LotArea         0\n",
       "YearBuilt       0\n",
       "LowQualFinSF    0\n",
       "YrSold          0\n",
       "Fireplaces      0\n",
       "BedroomAbvGr    0\n",
       "KitchenAbvGr    0\n",
       "TotRmsAbvGrd    0\n",
       "GarageCars      0\n",
       "GarageArea      0\n",
       "WoodDeckSF      0\n",
       "OpenPorchSF     0\n",
       "totSF           0\n",
       "bathsF          0\n",
       "bathsH          0\n",
       "LotFrontage     0\n",
       "dtype: int64"
      ]
     },
     "execution_count": 390,
     "metadata": {},
     "output_type": "execute_result"
    }
   ],
   "source": [
    "imputedContDiscVars = CustomImputer(strategy='mode').fit_transform(contDiscVars)\n",
    "imputedContDiscVars.isnull().sum().sort_values(ascending = False)"
   ]
  },
  {
   "cell_type": "markdown",
   "metadata": {},
   "source": [
    "# Outliers"
   ]
  },
  {
   "cell_type": "code",
   "execution_count": 556,
   "metadata": {},
   "outputs": [
    {
     "name": "stderr",
     "output_type": "stream",
     "text": [
      "/Users/bennettgelly/anaconda3/lib/python3.6/site-packages/ipykernel_launcher.py:10: SettingWithCopyWarning: \n",
      "A value is trying to be set on a copy of a slice from a DataFrame\n",
      "\n",
      "See the caveats in the documentation: http://pandas.pydata.org/pandas-docs/stable/indexing.html#indexing-view-versus-copy\n",
      "  # Remove the CWD from sys.path while we load stuff.\n",
      "/Users/bennettgelly/anaconda3/lib/python3.6/site-packages/ipykernel_launcher.py:11: SettingWithCopyWarning: \n",
      "A value is trying to be set on a copy of a slice from a DataFrame\n",
      "\n",
      "See the caveats in the documentation: http://pandas.pydata.org/pandas-docs/stable/indexing.html#indexing-view-versus-copy\n",
      "  # This is added back by InteractiveShellApp.init_path()\n",
      "/Users/bennettgelly/anaconda3/lib/python3.6/site-packages/ipykernel_launcher.py:16: SettingWithCopyWarning: \n",
      "A value is trying to be set on a copy of a slice from a DataFrame\n",
      "\n",
      "See the caveats in the documentation: http://pandas.pydata.org/pandas-docs/stable/indexing.html#indexing-view-versus-copy\n",
      "  app.launch_new_instance()\n",
      "/Users/bennettgelly/anaconda3/lib/python3.6/site-packages/ipykernel_launcher.py:17: SettingWithCopyWarning: \n",
      "A value is trying to be set on a copy of a slice from a DataFrame\n",
      "\n",
      "See the caveats in the documentation: http://pandas.pydata.org/pandas-docs/stable/indexing.html#indexing-view-versus-copy\n"
     ]
    }
   ],
   "source": [
    "# see outliers in training set of continuous variables\n",
    "Cont = pd.concat([imputedContDiscVars, master.SalePrice], axis = 1)\n",
    "trainCont = Cont[Cont.SalePrice.notnull()]\n",
    "testCont = Cont[Cont.SalePrice.isnull()]\n",
    "\n",
    "# training set for ordinals and dummys\n",
    "Ord = pd.concat([imputedOrdVars, master.SalePrice], axis = 1)\n",
    "trainOrd = Ord[Ord.SalePrice.notnull()]\n",
    "testOrd = Ord[Ord.SalePrice.isnull()]\n",
    "trainOrd.drop(['SalePrice'], axis =1, inplace = True)\n",
    "testOrd.drop(['SalePrice'], axis =1, inplace = True)\n",
    "\n",
    "Dum = pd.concat([dummyFrame, master.SalePrice], axis = 1)\n",
    "trainDum = Dum[Dum.SalePrice.notnull()]\n",
    "testDum = Dum[Dum.SalePrice.isnull()]\n",
    "trainDum.drop(['SalePrice'], axis =1, inplace = True)\n",
    "testDum.drop(['SalePrice'], axis =1, inplace = True)\n"
   ]
  },
  {
   "cell_type": "code",
   "execution_count": 488,
   "metadata": {},
   "outputs": [],
   "source": [
    "# function to find outliers > 4x SD\n",
    "def cutOutlier(x):\n",
    "    cutOutliers = pd.DataFrame([])\n",
    "    for i in x:\n",
    "        emptyList = []\n",
    "        m = np.mean(x[i])\n",
    "        sd = np.std(x[i])\n",
    "        for j in x[i]:\n",
    "            if np.abs(j)< 6*np.abs(sd):\n",
    "                emptyList.append(j)\n",
    "            else:\n",
    "                emptyList.append(\"Dropped\")\n",
    "        cutOutliers[i] = pd.Series(emptyList)\n",
    "    \n",
    "    return cutOutliers\n",
    "    "
   ]
  },
  {
   "cell_type": "code",
   "execution_count": 489,
   "metadata": {},
   "outputs": [],
   "source": [
    "noOutliersCont = cutOutlier(trainCont)"
   ]
  },
  {
   "cell_type": "code",
   "execution_count": 500,
   "metadata": {},
   "outputs": [],
   "source": [
    "# take LotArea, totSF, bathsF, SalePrice\n",
    "noOutliers = noOutliersCont[['SalePrice', 'LotArea', 'totSF', 'bathsF']]"
   ]
  },
  {
   "cell_type": "code",
   "execution_count": 549,
   "metadata": {},
   "outputs": [],
   "source": [
    "# drop cols from original trainCont df\n",
    "trainCont = trainCont.drop(['SalePrice', 'LotArea', 'totSF', 'bathsF'], axis =1)"
   ]
  },
  {
   "cell_type": "code",
   "execution_count": 550,
   "metadata": {},
   "outputs": [],
   "source": [
    "# join cont cols with dropped NAs to other train columns\n",
    "merge = pd.concat([trainCont, noOutliers, trainDum, trainOrd], axis =1)"
   ]
  },
  {
   "cell_type": "code",
   "execution_count": 552,
   "metadata": {},
   "outputs": [],
   "source": [
    "# list of rows to drop\n",
    "drop = list(merge[merge.SalePrice == \"Dropped\"].index) + list(merge[merge.LotArea == \"Dropped\"].index) + list(merge[merge.totSF == \"Dropped\"].index) + list(merge[merge.bathsF == \"Dropped\"].index)"
   ]
  },
  {
   "cell_type": "code",
   "execution_count": 553,
   "metadata": {},
   "outputs": [],
   "source": [
    "# drop index with NAs\n",
    "merge.drop(drop, inplace = True)"
   ]
  },
  {
   "cell_type": "markdown",
   "metadata": {},
   "source": [
    "# Transformations"
   ]
  },
  {
   "cell_type": "code",
   "execution_count": 558,
   "metadata": {},
   "outputs": [],
   "source": [
    "# test data\n",
    "mergeTest = pd.concat([testCont, testDum, testOrd], axis =1)"
   ]
  },
  {
   "cell_type": "code",
   "execution_count": 571,
   "metadata": {},
   "outputs": [],
   "source": [
    "# recombine test and train as merged\n",
    "merged = merge.append(mergeTest)"
   ]
  },
  {
   "cell_type": "code",
   "execution_count": 671,
   "metadata": {},
   "outputs": [],
   "source": [
    "# apply transformations\n",
    "merged.LotArea = [i**(1/2) for i in merged.LotArea]\n",
    "merged.OpenPorchSF = [i**(1/2) for i in merged.OpenPorchSF]\n",
    "merged.totSF = [i**(2) for i in merged.totSF]\n",
    "merged.OverallQual = [i**(2) for i in merged.OverallQual]"
   ]
  },
  {
   "cell_type": "code",
   "execution_count": null,
   "metadata": {},
   "outputs": [],
   "source": [
    "# separate "
   ]
  },
  {
   "cell_type": "code",
   "execution_count": 669,
   "metadata": {},
   "outputs": [
    {
     "data": {
      "text/plain": [
       "<matplotlib.collections.PathCollection at 0x12ba908d0>"
      ]
     },
     "execution_count": 669,
     "metadata": {},
     "output_type": "execute_result"
    },
    {
     "data": {
      "image/png": "[encoded data removed]",
      "text/plain": [
       "<Figure size 432x288 with 1 Axes>"
      ]
     },
     "metadata": {},
     "output_type": "display_data"
    }
   ],
   "source": [
    "# check variables vs. SalePrice\n",
    "test = [i**(2) for i in merge.ExterQual]\n",
    "plt.scatter(y = merge.SalePrice, x = test, label='')"
   ]
  },
  {
   "cell_type": "code",
   "execution_count": 649,
   "metadata": {},
   "outputs": [
    {
     "data": {
      "text/plain": [
       "Index(['OverallQual', 'OverallCond', 'ExterQual', 'ExterCond', 'BsmtExposure',\n",
       "       'BsmtFinType1', 'HeatingQC', 'KitchenQual', 'GarageFinish',\n",
       "       'GarageQual', 'GarageCond'],\n",
       "      dtype='object')"
      ]
     },
     "execution_count": 649,
     "metadata": {},
     "output_type": "execute_result"
    }
   ],
   "source": [
    "testCont.columns\n",
    "testOrd.columns"
   ]
  },
  {
   "cell_type": "code",
   "execution_count": null,
   "metadata": {},
   "outputs": [],
   "source": [
    "data.KitchenQual = [i**2 for i in data.KitchenQual]\n",
    "data.BsmtExposure = [np.log(i) for i in data['BsmtExposure']]\n",
    "data.BsmtQual = [i**3 for i in data.BsmtQual]\n",
    "data.ExterQual = [i**2 for i in data.ExterQual]\n",
    "data['OverallQual'] = [i**2 for i in data.OverallQual]"
   ]
  },
  {
   "cell_type": "code",
   "execution_count": 414,
   "metadata": {},
   "outputs": [],
   "source": [
    "# split train and test\n",
    "trainNew = masterNew[masterNew.SalePrice.notnull()]\n",
    "testNew = masterNew[masterNew.SalePrice.isnull()]"
   ]
  },
  {
   "cell_type": "code",
   "execution_count": 434,
   "metadata": {},
   "outputs": [],
   "source": [
    "masterNew = pd.concat([imputedContDiscVars, imputedOrdVars, dummyFrame, master.SalePrice], axis =1)\n",
    "Cont = pd.concat([imputedContDiscVars, master.SalePrice], axis =1)"
   ]
  },
  {
   "cell_type": "code",
   "execution_count": 413,
   "metadata": {},
   "outputs": [],
   "source": [
    "#Renaming MiscFeatures as \"Shed\"\n",
    "masterNew.rename(columns={'MiscFeature':'Shed'}, inplace=True)\n",
    "\n",
    "#Renaming PoolArea as \"Pool\" \n",
    "masterNew.rename(columns={\"PoolArea\":\"Pool\"}, inplace=True)"
   ]
  },
  {
   "cell_type": "code",
   "execution_count": 427,
   "metadata": {},
   "outputs": [
    {
     "ename": "NameError",
     "evalue": "name 'df' is not defined",
     "output_type": "error",
     "traceback": [
      "\u001b[0;31m---------------------------------------------------------------------------\u001b[0m",
      "\u001b[0;31mNameError\u001b[0m                                 Traceback (most recent call last)",
      "\u001b[0;32m<ipython-input-427-777c2d06de95>\u001b[0m in \u001b[0;36m<module>\u001b[0;34m()\u001b[0m\n\u001b[1;32m      1\u001b[0m \u001b[0mm\u001b[0m \u001b[0;34m=\u001b[0m \u001b[0mnp\u001b[0m\u001b[0;34m.\u001b[0m\u001b[0marange\u001b[0m\u001b[0;34m(\u001b[0m\u001b[0;36m16\u001b[0m\u001b[0;34m)\u001b[0m\u001b[0;34m*\u001b[0m\u001b[0;36m10\u001b[0m\u001b[0;34m\u001b[0m\u001b[0m\n\u001b[0;32m----> 2\u001b[0;31m \u001b[0mm\u001b[0m\u001b[0;34m[\u001b[0m\u001b[0mdf\u001b[0m\u001b[0;34m.\u001b[0m\u001b[0mA\u001b[0m\u001b[0;34m]\u001b[0m\u001b[0;34m\u001b[0m\u001b[0m\n\u001b[0m\u001b[1;32m      3\u001b[0m \u001b[0marray\u001b[0m\u001b[0;34m(\u001b[0m\u001b[0;34m[\u001b[0m  \u001b[0;36m0\u001b[0m\u001b[0;34m,\u001b[0m  \u001b[0;36m40\u001b[0m\u001b[0;34m,\u001b[0m  \u001b[0;36m50\u001b[0m\u001b[0;34m,\u001b[0m  \u001b[0;36m60\u001b[0m\u001b[0;34m,\u001b[0m \u001b[0;36m150\u001b[0m\u001b[0;34m,\u001b[0m \u001b[0;36m150\u001b[0m\u001b[0;34m,\u001b[0m \u001b[0;36m140\u001b[0m\u001b[0;34m,\u001b[0m \u001b[0;36m130\u001b[0m\u001b[0;34m]\u001b[0m\u001b[0;34m)\u001b[0m\u001b[0;34m\u001b[0m\u001b[0m\n\u001b[1;32m      4\u001b[0m \u001b[0mdf\u001b[0m\u001b[0;34m[\u001b[0m\u001b[0;34m\"D\"\u001b[0m\u001b[0;34m]\u001b[0m \u001b[0;34m=\u001b[0m \u001b[0mm\u001b[0m\u001b[0;34m[\u001b[0m\u001b[0mdf\u001b[0m\u001b[0;34m.\u001b[0m\u001b[0mA\u001b[0m\u001b[0;34m]\u001b[0m\u001b[0;34m\u001b[0m\u001b[0m\n\u001b[1;32m      5\u001b[0m \u001b[0mdf\u001b[0m\u001b[0;34m\u001b[0m\u001b[0m\n",
      "\u001b[0;31mNameError\u001b[0m: name 'df' is not defined"
     ]
    }
   ],
   "source": [
    "m = np.arange(16)*10\n",
    "m[df.A]\n",
    "array([  0,  40,  50,  60, 150, 150, 140, 130])\n",
    "df[\"D\"] = m[df.A]\n",
    "df"
   ]
  },
  {
   "cell_type": "code",
   "execution_count": null,
   "metadata": {},
   "outputs": [],
   "source": []
  },
  {
   "cell_type": "code",
   "execution_count": 397,
   "metadata": {},
   "outputs": [
    {
     "data": {
      "text/plain": [
       "(array([ 486.,    0.,  105.,  326., 1275.,  637.,   78.,   10.,    0.,\n",
       "           2.]),\n",
       " array([ 0.        ,  1.7691806 ,  3.5383612 ,  5.3075418 ,  7.07672241,\n",
       "         8.84590301, 10.61508361, 12.38426421, 14.15344481, 15.92262541,\n",
       "        17.69180601]),\n",
       " <a list of 10 Patch objects>)"
      ]
     },
     "execution_count": 397,
     "metadata": {},
     "output_type": "execute_result"
    },
    {
     "data": {
      "image/png": "[encoded data removed]",
      "text/plain": [
       "<Figure size 432x288 with 1 Axes>"
      ]
     },
     "metadata": {},
     "output_type": "display_data"
    }
   ],
   "source": [
    "# LotFrontage\n",
    "test = [i**(1/2) for i in masterNew.LotFrontage]\n",
    "plt.hist(x = test)"
   ]
  },
  {
   "cell_type": "code",
   "execution_count": 399,
   "metadata": {},
   "outputs": [
    {
     "data": {
      "text/plain": [
       "(array([ 486.,    0.,  105.,  326., 1275.,  637.,   78.,   10.,    0.,\n",
       "           2.]),\n",
       " array([ 0.        ,  1.7691806 ,  3.5383612 ,  5.3075418 ,  7.07672241,\n",
       "         8.84590301, 10.61508361, 12.38426421, 14.15344481, 15.92262541,\n",
       "        17.69180601]),\n",
       " <a list of 10 Patch objects>)"
      ]
     },
     "execution_count": 399,
     "metadata": {},
     "output_type": "execute_result"
    },
    {
     "data": {
      "image/png": "[encoded data removed]",
      "text/plain": [
       "<Figure size 432x288 with 1 Axes>"
      ]
     },
     "metadata": {},
     "output_type": "display_data"
    }
   ],
   "source": [
    "# LotArea\n",
    "test2 = [i**(1/2) for i in masterNew.LotFrontage]\n",
    "#plt.hist(x = masterNew.LotFrontage)\n",
    "\n",
    "plt.hist(x = test2)"
   ]
  },
  {
   "cell_type": "code",
   "execution_count": 406,
   "metadata": {},
   "outputs": [
    {
     "data": {
      "text/plain": [
       "(array([ 11.,  47., 103., 244., 156., 411., 478., 313., 275., 881.]),\n",
       " array([2.29894839e+16, 2.39713395e+16, 2.49531952e+16, 2.59350508e+16,\n",
       "        2.69169064e+16, 2.78987620e+16, 2.88806176e+16, 2.98624732e+16,\n",
       "        3.08443289e+16, 3.18261845e+16, 3.28080401e+16]),\n",
       " <a list of 10 Patch objects>)"
      ]
     },
     "execution_count": 406,
     "metadata": {},
     "output_type": "execute_result"
    },
    {
     "data": {
      "image/png": "[encoded data removed]",
      "text/plain": [
       "<Figure size 432x288 with 1 Axes>"
      ]
     },
     "metadata": {},
     "output_type": "display_data"
    }
   ],
   "source": [
    "# YearBuilt\n",
    "test3 = [i**(5) for i in masterNew.YearBuilt]\n",
    "\n",
    "#plt.hist(x = masterNew.YearBuilt)\n",
    "\n",
    "plt.hist(x = test3)"
   ]
  },
  {
   "cell_type": "code",
   "execution_count": 349,
   "metadata": {},
   "outputs": [
    {
     "data": {
      "text/plain": [
       "Index(['LotFrontage', 'LotArea', 'YearBuilt', 'LowQualFinSF', 'YrSold',\n",
       "       'Fireplaces', 'BedroomAbvGr', 'KitchenAbvGr', 'TotRmsAbvGrd',\n",
       "       'GarageCars', 'GarageArea', 'WoodDeckSF', 'OpenPorchSF', 'totSF',\n",
       "       'bathsF', 'bathsH', 'porchSF', 'YrSinceRemo'],\n",
       "      dtype='object')"
      ]
     },
     "execution_count": 349,
     "metadata": {},
     "output_type": "execute_result"
    }
   ],
   "source": [
    "imputedContDiscVars.columns"
   ]
  },
  {
   "cell_type": "code",
   "execution_count": 350,
   "metadata": {},
   "outputs": [
    {
     "data": {
      "text/plain": [
       "Index(['OverallQual', 'OverallCond', 'ExterQual', 'ExterCond', 'BsmtExposure',\n",
       "       'BsmtFinType1', 'HeatingQC', 'KitchenQual', 'GarageFinish',\n",
       "       'GarageQual', 'GarageCond'],\n",
       "      dtype='object')"
      ]
     },
     "execution_count": 350,
     "metadata": {},
     "output_type": "execute_result"
    }
   ],
   "source": [
    "imputedOrdVars.columns"
   ]
  },
  {
   "cell_type": "code",
   "execution_count": 64,
   "metadata": {},
   "outputs": [
    {
     "data": {
      "text/plain": [
       "<matplotlib.collections.PathCollection at 0x11789fb38>"
      ]
     },
     "execution_count": 64,
     "metadata": {},
     "output_type": "execute_result"
    },
    {
     "data": {
      "image/png": "[encoded data removed]",
      "text/plain": [
       "<Figure size 432x288 with 1 Axes>"
      ]
     },
     "metadata": {},
     "output_type": "display_data"
    }
   ],
   "source": [
    "#plt.hist(x= master.LotArea)\n",
    "plt.scatter(y = master.SalePrice, x = master.YearBuilt, label='Price x Area')"
   ]
  },
  {
   "cell_type": "code",
   "execution_count": null,
   "metadata": {},
   "outputs": [],
   "source": []
  },
  {
   "cell_type": "code",
   "execution_count": null,
   "metadata": {},
   "outputs": [],
   "source": [
    "\n",
    "# check skew\n",
    "# check for linearity - make adjustments to ordinals and cont./disc\n",
    "# drop outliers in training data"
   ]
  },
  {
   "cell_type": "code",
   "execution_count": 13,
   "metadata": {},
   "outputs": [],
   "source": []
  }
 ],
 "metadata": {
  "kernelspec": {
   "display_name": "Python 3",
   "language": "python",
   "name": "python3"
  },
  "language_info": {
   "codemirror_mode": {
    "name": "ipython",
    "version": 3
   },
   "file_extension": ".py",
   "mimetype": "text/x-python",
   "name": "python",
   "nbconvert_exporter": "python",
   "pygments_lexer": "ipython3",
   "version": "3.6.4"
  }
 },
 "nbformat": 4,
 "nbformat_minor": 2
}
